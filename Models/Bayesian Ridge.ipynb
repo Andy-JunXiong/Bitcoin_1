{
 "cells": [
  {
   "cell_type": "code",
   "execution_count": null,
   "metadata": {},
   "outputs": [],
   "source": [
    "from Functions_1 import normalize_data, time_series_CV_split, wrapper_feature_selector, train_and_predict, warn\n",
    "import pandas as pd\n",
    "from pandas import DataFrame\n",
    "import numpy as np\n",
    "from sklearn.metrics import mean_squared_error, mean_absolute_error, make_scorer\n",
    "from sklearn.preprocessing import MinMaxScaler \n",
    "from time import time\n",
    "from math import sqrt\n",
    "from sklearn.linear_model import BayesianRidge\n",
    "from matplotlib import pyplot\n",
    "import plotly.offline as py\n",
    "import plotly.graph_objs as go\n",
    "import warnings\n",
    "warnings.warn = warn\n",
    "py.init_notebook_mode(connected=True)\n",
    "%matplotlib inline\n",
    "\n",
    "# Train Set\n",
    "train_data = pd.read_csv('/Users/Andy/Desktop/Bitcoin/Data/Train_data_after_EDA.csv')\n",
    "print('n_features:', len(train_data.iloc[0]))\n",
    "print('n_samples:', len(train_data))\n",
    "train_data.head()"
   ]
  },
  {
   "cell_type": "code",
   "execution_count": null,
   "metadata": {
    "scrolled": true
   },
   "outputs": [],
   "source": [
    "# Test Set\n",
    "test_data = pd.read_csv('/Users/Andy/Desktop/Bitcoin/Data/Test_data_after_EDA.csv')\n",
    "print('n_features:', len(test_data.iloc[0]))\n",
    "print('n_samples:', len(test_data))\n",
    "test_data.head()"
   ]
  },
  {
   "cell_type": "code",
   "execution_count": null,
   "metadata": {},
   "outputs": [],
   "source": [
    "combined_data = pd.concat([train_data, test_data], ignore_index=True) # use data from 01/2018 onwards only - best stationarity\n",
    "combined_data['Price'] = combined_data['close'].shift(-1) # Dependent variable Y"
   ]
  },
  {
   "cell_type": "code",
   "execution_count": null,
   "metadata": {},
   "outputs": [],
   "source": [
    "combined_data"
   ]
  },
  {
   "cell_type": "code",
   "execution_count": null,
   "metadata": {
    "scrolled": true
   },
   "outputs": [],
   "source": [
    "# Combined train and test sets\n",
    "combined_data = pd.concat([train_data, test_data], ignore_index=True) # use data from 01/2018 onwards only - best stationarity\n",
    "combined_data['Price'] = combined_data['close'].shift(-1) # Dependent variable Y\n",
    "print('n_features:', len(combined_data.iloc[0]))\n",
    "print('n_samples:', len(combined_data))\n",
    "combined_data = combined_data.iloc[:-1,1:]\n",
    "combined_data.tail()"
   ]
  },
  {
   "cell_type": "code",
   "execution_count": null,
   "metadata": {},
   "outputs": [],
   "source": [
    "# Feature Meta Subset\n",
    "subset = [8, 7, 6, 5, 4, 3, 2, 1, 0] \n",
    "\n",
    "# Split train data into X (features) and Y (dependent variable)\n",
    "data = combined_data.values \n",
    "Y_train = data[:-181,-1].reshape(-1,1) \n",
    "X_train = data[:-181,:-1]\n",
    "\n",
    "# Training Validation samples size (1/10/18 - 31/12/18)\n",
    "n_validation = 92\n",
    "\n",
    "# Feature Selection\n",
    "selected_features = wrapper_feature_selector(X_train,Y_train,BayesianRidge(),subset)[0]   \n",
    "print('Selected Features:',str(selected_features))\n"
   ]
  },
  {
   "cell_type": "code",
   "execution_count": null,
   "metadata": {},
   "outputs": [],
   "source": [
    "%%time\n",
    "rmse,Y_train_test,Y_train_pred= train_and_predict(X_train[:,selected_features],Y_train,BayesianRidge(),predict=False)\n",
    "print('Train RMSE: {:0.2f}'.format(rmse))\n",
    "        "
   ]
  },
  {
   "cell_type": "code",
   "execution_count": null,
   "metadata": {},
   "outputs": [],
   "source": [
    "%%time\n",
    "# Feature Meta Subset\n",
    "subset = [8, 7, 6, 5, 4, 3, 2, 1, 0] \n",
    "\n",
    "# Split train data into X (features) and Y (dependent variable)\n",
    "data = combined_data.values \n",
    "Y_train = data[:-181,-1].reshape(-1,1) \n",
    "X_train = data[:-181,:-1]\n",
    "\n",
    "# Test samples size (1/1/19 - 30/6/19)\n",
    "n_validation = 179\n",
    "\n",
    "# Split test data into X (features) and Y (dependent variable)\n",
    "Y_test = data[:,-1].reshape(-1,1) # including train data for fitting the model\n",
    "X_test = data[:,:-1]\n",
    "\n",
    "rmse,Y_test,Y_pred= train_and_predict(X_test,Y_test,BayesianRidge(),n_validation,subset,predict=True)\n",
    "print('Test RMSE: {:0.2f}'.format(rmse))\n"
   ]
  },
  {
   "cell_type": "code",
   "execution_count": null,
   "metadata": {},
   "outputs": [],
   "source": [
    "# Output prediction to csv file\n",
    "output = {'Y_pred': Y_pred.reshape(-1,)}\n",
    "output = DataFrame(output)\n",
    "output.to_csv('BayesianRidge.csv', index=False)\n"
   ]
  },
  {
   "cell_type": "code",
   "execution_count": null,
   "metadata": {},
   "outputs": [],
   "source": [
    "trace1 = go.Scatter(\n",
    "    x = np.arange(0, len(Y_pred), 1),\n",
    "    y = Y_pred.reshape(-1,),\n",
    "    mode = 'lines',\n",
    "    name = 'Predicted labels',\n",
    "    line = dict(color=('rgb(244, 146, 65)'), width=2)\n",
    ")\n",
    "trace2 = go.Scatter(\n",
    "    x = np.arange(0, len(Y_test), 1),\n",
    "    y = Y_test.reshape(-1,),\n",
    "    mode = 'lines',\n",
    "    name = 'True labels',\n",
    "    line = dict(color=('rgb(66, 244, 155)'), width=2)\n",
    ")\n",
    "\n",
    "layout = dict(title = 'Comparison of true prices (on the test dataset) with prices our model predicted',\n",
    "             xaxis = dict(title = 'Day number'), yaxis = dict(title = 'Price, USD'))\n",
    "fig = dict(data=[trace1, trace2], layout=layout)\n",
    "py.iplot(fig, filename='results_demonstrating0')\n",
    "\n"
   ]
  },
  {
   "cell_type": "code",
   "execution_count": null,
   "metadata": {},
   "outputs": [],
   "source": []
  }
 ],
 "metadata": {
  "kernelspec": {
   "display_name": "Python 3",
   "language": "python",
   "name": "python3"
  },
  "language_info": {
   "codemirror_mode": {
    "name": "ipython",
    "version": 3
   },
   "file_extension": ".py",
   "mimetype": "text/x-python",
   "name": "python",
   "nbconvert_exporter": "python",
   "pygments_lexer": "ipython3",
   "version": "3.5.6"
  }
 },
 "nbformat": 4,
 "nbformat_minor": 2
}
