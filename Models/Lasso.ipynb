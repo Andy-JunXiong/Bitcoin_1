{
 "cells": [
  {
   "cell_type": "code",
   "execution_count": 1,
   "metadata": {
    "scrolled": true
   },
   "outputs": [
    {
     "name": "stderr",
     "output_type": "stream",
     "text": [
      "/anaconda3/lib/python3.5/site-packages/sklearn/ensemble/weight_boosting.py:29: DeprecationWarning: numpy.core.umath_tests is an internal NumPy module and should not be imported. It will be removed in a future NumPy release.\n",
      "  from numpy.core.umath_tests import inner1d\n"
     ]
    },
    {
     "data": {
      "text/html": [
       "<script>requirejs.config({paths: { 'plotly': ['https://cdn.plot.ly/plotly-latest.min']},});if(!window.Plotly) {{require(['plotly'],function(plotly) {window.Plotly=plotly;});}}</script>"
      ],
      "text/vnd.plotly.v1+html": [
       "<script>requirejs.config({paths: { 'plotly': ['https://cdn.plot.ly/plotly-latest.min']},});if(!window.Plotly) {{require(['plotly'],function(plotly) {window.Plotly=plotly;});}}</script>"
      ]
     },
     "metadata": {},
     "output_type": "display_data"
    },
    {
     "name": "stdout",
     "output_type": "stream",
     "text": [
      "n_features: 10\n",
      "n_samples: 365\n"
     ]
    },
    {
     "data": {
      "text/html": [
       "<div>\n",
       "<style scoped>\n",
       "    .dataframe tbody tr th:only-of-type {\n",
       "        vertical-align: middle;\n",
       "    }\n",
       "\n",
       "    .dataframe tbody tr th {\n",
       "        vertical-align: top;\n",
       "    }\n",
       "\n",
       "    .dataframe thead th {\n",
       "        text-align: right;\n",
       "    }\n",
       "</style>\n",
       "<table border=\"1\" class=\"dataframe\">\n",
       "  <thead>\n",
       "    <tr style=\"text-align: right;\">\n",
       "      <th></th>\n",
       "      <th>close</th>\n",
       "      <th>volume</th>\n",
       "      <th>BCHAIN-DIFF</th>\n",
       "      <th>BCHAIN-AVBLS</th>\n",
       "      <th>BCHAIN-MIREV</th>\n",
       "      <th>BCHAIN-CPTRA</th>\n",
       "      <th>BCHAIN-NTRAN</th>\n",
       "      <th>BCHAIN-HRATE</th>\n",
       "      <th>BCHAIN-CPT</th>\n",
       "      <th>BCHAIN-NTRBL</th>\n",
       "    </tr>\n",
       "  </thead>\n",
       "  <tbody>\n",
       "    <tr>\n",
       "      <th>0</th>\n",
       "      <td>13657.2</td>\n",
       "      <td>10291200000</td>\n",
       "      <td>1.870000e+12</td>\n",
       "      <td>1.037057</td>\n",
       "      <td>35435185.86</td>\n",
       "      <td>125.970638</td>\n",
       "      <td>290422</td>\n",
       "      <td>15177350.25</td>\n",
       "      <td>122.012747</td>\n",
       "      <td>1781.730061</td>\n",
       "    </tr>\n",
       "    <tr>\n",
       "      <th>1</th>\n",
       "      <td>14982.1</td>\n",
       "      <td>16846600192</td>\n",
       "      <td>1.920000e+12</td>\n",
       "      <td>1.043383</td>\n",
       "      <td>32334328.99</td>\n",
       "      <td>138.227164</td>\n",
       "      <td>241757</td>\n",
       "      <td>14975580.96</td>\n",
       "      <td>133.747230</td>\n",
       "      <td>1549.724359</td>\n",
       "    </tr>\n",
       "    <tr>\n",
       "      <th>2</th>\n",
       "      <td>15201.0</td>\n",
       "      <td>16871900160</td>\n",
       "      <td>1.930000e+12</td>\n",
       "      <td>1.041368</td>\n",
       "      <td>40553327.64</td>\n",
       "      <td>122.635624</td>\n",
       "      <td>340980</td>\n",
       "      <td>16415540.67</td>\n",
       "      <td>118.931690</td>\n",
       "      <td>1994.035088</td>\n",
       "    </tr>\n",
       "    <tr>\n",
       "      <th>3</th>\n",
       "      <td>15599.2</td>\n",
       "      <td>21783199744</td>\n",
       "      <td>1.930000e+12</td>\n",
       "      <td>1.065513</td>\n",
       "      <td>39612658.08</td>\n",
       "      <td>103.108719</td>\n",
       "      <td>395963</td>\n",
       "      <td>15071578.27</td>\n",
       "      <td>100.041312</td>\n",
       "      <td>2522.057325</td>\n",
       "    </tr>\n",
       "    <tr>\n",
       "      <th>4</th>\n",
       "      <td>17429.5</td>\n",
       "      <td>23840899072</td>\n",
       "      <td>1.930000e+12</td>\n",
       "      <td>1.065833</td>\n",
       "      <td>42527795.29</td>\n",
       "      <td>102.933856</td>\n",
       "      <td>425008</td>\n",
       "      <td>16127548.73</td>\n",
       "      <td>100.063517</td>\n",
       "      <td>2529.809524</td>\n",
       "    </tr>\n",
       "  </tbody>\n",
       "</table>\n",
       "</div>"
      ],
      "text/plain": [
       "     close       volume   BCHAIN-DIFF  BCHAIN-AVBLS  BCHAIN-MIREV  \\\n",
       "0  13657.2  10291200000  1.870000e+12      1.037057   35435185.86   \n",
       "1  14982.1  16846600192  1.920000e+12      1.043383   32334328.99   \n",
       "2  15201.0  16871900160  1.930000e+12      1.041368   40553327.64   \n",
       "3  15599.2  21783199744  1.930000e+12      1.065513   39612658.08   \n",
       "4  17429.5  23840899072  1.930000e+12      1.065833   42527795.29   \n",
       "\n",
       "   BCHAIN-CPTRA  BCHAIN-NTRAN  BCHAIN-HRATE  BCHAIN-CPT  BCHAIN-NTRBL  \n",
       "0    125.970638        290422   15177350.25  122.012747   1781.730061  \n",
       "1    138.227164        241757   14975580.96  133.747230   1549.724359  \n",
       "2    122.635624        340980   16415540.67  118.931690   1994.035088  \n",
       "3    103.108719        395963   15071578.27  100.041312   2522.057325  \n",
       "4    102.933856        425008   16127548.73  100.063517   2529.809524  "
      ]
     },
     "execution_count": 1,
     "metadata": {},
     "output_type": "execute_result"
    }
   ],
   "source": [
    "from Functions_6 import normalize_data, time_series_CV_split, wrapper_feature_selector, train_and_predict, fine_tune_alpha, warn\n",
    "import pandas as pd\n",
    "from pandas import DataFrame\n",
    "import numpy as np\n",
    "from sklearn.metrics import mean_squared_error, mean_absolute_error, make_scorer\n",
    "from sklearn.preprocessing import MinMaxScaler \n",
    "from time import time\n",
    "from math import sqrt\n",
    "from sklearn.linear_model import Lasso\n",
    "from matplotlib import pyplot\n",
    "import plotly.offline as py\n",
    "import plotly.graph_objs as go\n",
    "import warnings\n",
    "warnings.warn = warn\n",
    "py.init_notebook_mode(connected=True)\n",
    "%matplotlib inline\n",
    "\n",
    "# Train Set\n",
    "train_data = pd.read_csv('/Users/Andy/Desktop/Bitcoin/Data/Train_data_after_EDA.csv')\n",
    "train_data = train_data.drop(columns=['date'])\n",
    "print('n_features:', len(train_data.iloc[0]))\n",
    "print('n_samples:', len(train_data))\n",
    "train_data.head()"
   ]
  },
  {
   "cell_type": "code",
   "execution_count": 2,
   "metadata": {},
   "outputs": [
    {
     "name": "stdout",
     "output_type": "stream",
     "text": [
      "n_features: 10\n",
      "n_samples: 181\n"
     ]
    },
    {
     "data": {
      "text/html": [
       "<div>\n",
       "<style scoped>\n",
       "    .dataframe tbody tr th:only-of-type {\n",
       "        vertical-align: middle;\n",
       "    }\n",
       "\n",
       "    .dataframe tbody tr th {\n",
       "        vertical-align: top;\n",
       "    }\n",
       "\n",
       "    .dataframe thead th {\n",
       "        text-align: right;\n",
       "    }\n",
       "</style>\n",
       "<table border=\"1\" class=\"dataframe\">\n",
       "  <thead>\n",
       "    <tr style=\"text-align: right;\">\n",
       "      <th></th>\n",
       "      <th>close</th>\n",
       "      <th>volume</th>\n",
       "      <th>BCHAIN-DIFF</th>\n",
       "      <th>BCHAIN-AVBLS</th>\n",
       "      <th>BCHAIN-MIREV</th>\n",
       "      <th>BCHAIN-CPTRA</th>\n",
       "      <th>BCHAIN-NTRAN</th>\n",
       "      <th>BCHAIN-HRATE</th>\n",
       "      <th>BCHAIN-CPT</th>\n",
       "      <th>BCHAIN-NTRBL</th>\n",
       "    </tr>\n",
       "  </thead>\n",
       "  <tbody>\n",
       "    <tr>\n",
       "      <th>0</th>\n",
       "      <td>3843.52</td>\n",
       "      <td>4324200990</td>\n",
       "      <td>5.250000e+12</td>\n",
       "      <td>0.888394</td>\n",
       "      <td>7406437.589</td>\n",
       "      <td>28.520962</td>\n",
       "      <td>259684</td>\n",
       "      <td>43291796.76</td>\n",
       "      <td>28.520962</td>\n",
       "      <td>1675.380645</td>\n",
       "    </tr>\n",
       "    <tr>\n",
       "      <th>1</th>\n",
       "      <td>3943.41</td>\n",
       "      <td>5244856836</td>\n",
       "      <td>5.620000e+12</td>\n",
       "      <td>0.801779</td>\n",
       "      <td>7030739.129</td>\n",
       "      <td>29.953090</td>\n",
       "      <td>234725</td>\n",
       "      <td>41615985.27</td>\n",
       "      <td>29.953090</td>\n",
       "      <td>1575.335570</td>\n",
       "    </tr>\n",
       "    <tr>\n",
       "      <th>2</th>\n",
       "      <td>3836.74</td>\n",
       "      <td>4530215219</td>\n",
       "      <td>5.620000e+12</td>\n",
       "      <td>0.947861</td>\n",
       "      <td>7368988.356</td>\n",
       "      <td>27.122182</td>\n",
       "      <td>271696</td>\n",
       "      <td>42174589.10</td>\n",
       "      <td>27.122182</td>\n",
       "      <td>1799.311258</td>\n",
       "    </tr>\n",
       "    <tr>\n",
       "      <th>3</th>\n",
       "      <td>3857.72</td>\n",
       "      <td>4847965467</td>\n",
       "      <td>5.620000e+12</td>\n",
       "      <td>0.966222</td>\n",
       "      <td>7564081.637</td>\n",
       "      <td>25.991979</td>\n",
       "      <td>291016</td>\n",
       "      <td>43291796.76</td>\n",
       "      <td>25.991979</td>\n",
       "      <td>1877.522581</td>\n",
       "    </tr>\n",
       "    <tr>\n",
       "      <th>4</th>\n",
       "      <td>3845.19</td>\n",
       "      <td>5137609824</td>\n",
       "      <td>5.620000e+12</td>\n",
       "      <td>0.959199</td>\n",
       "      <td>7194486.330</td>\n",
       "      <td>25.533007</td>\n",
       "      <td>281772</td>\n",
       "      <td>41615985.27</td>\n",
       "      <td>25.533007</td>\n",
       "      <td>1891.087248</td>\n",
       "    </tr>\n",
       "  </tbody>\n",
       "</table>\n",
       "</div>"
      ],
      "text/plain": [
       "     close      volume   BCHAIN-DIFF  BCHAIN-AVBLS  BCHAIN-MIREV  \\\n",
       "0  3843.52  4324200990  5.250000e+12      0.888394   7406437.589   \n",
       "1  3943.41  5244856836  5.620000e+12      0.801779   7030739.129   \n",
       "2  3836.74  4530215219  5.620000e+12      0.947861   7368988.356   \n",
       "3  3857.72  4847965467  5.620000e+12      0.966222   7564081.637   \n",
       "4  3845.19  5137609824  5.620000e+12      0.959199   7194486.330   \n",
       "\n",
       "   BCHAIN-CPTRA  BCHAIN-NTRAN  BCHAIN-HRATE  BCHAIN-CPT  BCHAIN-NTRBL  \n",
       "0     28.520962        259684   43291796.76   28.520962   1675.380645  \n",
       "1     29.953090        234725   41615985.27   29.953090   1575.335570  \n",
       "2     27.122182        271696   42174589.10   27.122182   1799.311258  \n",
       "3     25.991979        291016   43291796.76   25.991979   1877.522581  \n",
       "4     25.533007        281772   41615985.27   25.533007   1891.087248  "
      ]
     },
     "execution_count": 2,
     "metadata": {},
     "output_type": "execute_result"
    }
   ],
   "source": [
    "# Test Set\n",
    "test_data = pd.read_csv('/Users/Andy/Desktop/Bitcoin/Data/Test_data_after_EDA.csv')\n",
    "test_data = test_data.drop(columns=['date'])\n",
    "print('n_features:', len(test_data.iloc[0]))\n",
    "print('n_samples:', len(test_data))\n",
    "test_data.head()\n",
    "\n"
   ]
  },
  {
   "cell_type": "code",
   "execution_count": 3,
   "metadata": {},
   "outputs": [
    {
     "name": "stdout",
     "output_type": "stream",
     "text": [
      "n_features: 10\n",
      "n_samples: 545\n"
     ]
    },
    {
     "data": {
      "text/html": [
       "<div>\n",
       "<style scoped>\n",
       "    .dataframe tbody tr th:only-of-type {\n",
       "        vertical-align: middle;\n",
       "    }\n",
       "\n",
       "    .dataframe tbody tr th {\n",
       "        vertical-align: top;\n",
       "    }\n",
       "\n",
       "    .dataframe thead th {\n",
       "        text-align: right;\n",
       "    }\n",
       "</style>\n",
       "<table border=\"1\" class=\"dataframe\">\n",
       "  <thead>\n",
       "    <tr style=\"text-align: right;\">\n",
       "      <th></th>\n",
       "      <th>volume</th>\n",
       "      <th>BCHAIN-DIFF</th>\n",
       "      <th>BCHAIN-AVBLS</th>\n",
       "      <th>BCHAIN-MIREV</th>\n",
       "      <th>BCHAIN-CPTRA</th>\n",
       "      <th>BCHAIN-NTRAN</th>\n",
       "      <th>BCHAIN-HRATE</th>\n",
       "      <th>BCHAIN-CPT</th>\n",
       "      <th>BCHAIN-NTRBL</th>\n",
       "      <th>Price</th>\n",
       "    </tr>\n",
       "  </thead>\n",
       "  <tbody>\n",
       "    <tr>\n",
       "      <th>0</th>\n",
       "      <td>10291200000</td>\n",
       "      <td>1.870000e+12</td>\n",
       "      <td>1.037057</td>\n",
       "      <td>35435185.86</td>\n",
       "      <td>125.970638</td>\n",
       "      <td>290422</td>\n",
       "      <td>15177350.25</td>\n",
       "      <td>122.012747</td>\n",
       "      <td>1781.730061</td>\n",
       "      <td>14982.1</td>\n",
       "    </tr>\n",
       "    <tr>\n",
       "      <th>1</th>\n",
       "      <td>16846600192</td>\n",
       "      <td>1.920000e+12</td>\n",
       "      <td>1.043383</td>\n",
       "      <td>32334328.99</td>\n",
       "      <td>138.227164</td>\n",
       "      <td>241757</td>\n",
       "      <td>14975580.96</td>\n",
       "      <td>133.747230</td>\n",
       "      <td>1549.724359</td>\n",
       "      <td>15201.0</td>\n",
       "    </tr>\n",
       "    <tr>\n",
       "      <th>2</th>\n",
       "      <td>16871900160</td>\n",
       "      <td>1.930000e+12</td>\n",
       "      <td>1.041368</td>\n",
       "      <td>40553327.64</td>\n",
       "      <td>122.635624</td>\n",
       "      <td>340980</td>\n",
       "      <td>16415540.67</td>\n",
       "      <td>118.931690</td>\n",
       "      <td>1994.035088</td>\n",
       "      <td>15599.2</td>\n",
       "    </tr>\n",
       "    <tr>\n",
       "      <th>3</th>\n",
       "      <td>21783199744</td>\n",
       "      <td>1.930000e+12</td>\n",
       "      <td>1.065513</td>\n",
       "      <td>39612658.08</td>\n",
       "      <td>103.108719</td>\n",
       "      <td>395963</td>\n",
       "      <td>15071578.27</td>\n",
       "      <td>100.041312</td>\n",
       "      <td>2522.057325</td>\n",
       "      <td>17429.5</td>\n",
       "    </tr>\n",
       "    <tr>\n",
       "      <th>4</th>\n",
       "      <td>23840899072</td>\n",
       "      <td>1.930000e+12</td>\n",
       "      <td>1.065833</td>\n",
       "      <td>42527795.29</td>\n",
       "      <td>102.933856</td>\n",
       "      <td>425008</td>\n",
       "      <td>16127548.73</td>\n",
       "      <td>100.063517</td>\n",
       "      <td>2529.809524</td>\n",
       "      <td>17527.0</td>\n",
       "    </tr>\n",
       "  </tbody>\n",
       "</table>\n",
       "</div>"
      ],
      "text/plain": [
       "        volume   BCHAIN-DIFF  BCHAIN-AVBLS  BCHAIN-MIREV  BCHAIN-CPTRA  \\\n",
       "0  10291200000  1.870000e+12      1.037057   35435185.86    125.970638   \n",
       "1  16846600192  1.920000e+12      1.043383   32334328.99    138.227164   \n",
       "2  16871900160  1.930000e+12      1.041368   40553327.64    122.635624   \n",
       "3  21783199744  1.930000e+12      1.065513   39612658.08    103.108719   \n",
       "4  23840899072  1.930000e+12      1.065833   42527795.29    102.933856   \n",
       "\n",
       "   BCHAIN-NTRAN  BCHAIN-HRATE  BCHAIN-CPT  BCHAIN-NTRBL    Price  \n",
       "0        290422   15177350.25  122.012747   1781.730061  14982.1  \n",
       "1        241757   14975580.96  133.747230   1549.724359  15201.0  \n",
       "2        340980   16415540.67  118.931690   1994.035088  15599.2  \n",
       "3        395963   15071578.27  100.041312   2522.057325  17429.5  \n",
       "4        425008   16127548.73  100.063517   2529.809524  17527.0  "
      ]
     },
     "execution_count": 3,
     "metadata": {},
     "output_type": "execute_result"
    }
   ],
   "source": [
    "combined_data = pd.concat([train_data, test_data], ignore_index=True) # use data from 01/2018 onwards only - best stationarity\n",
    "combined_data['Price'] = combined_data['close'].shift(-1) # Dependent variable Y\n",
    "combined_data = combined_data.iloc[:-1,1:] # remove the last row and the first close \n",
    "print('n_features:', len(combined_data.iloc[0]))\n",
    "print('n_samples:', len(combined_data))\n",
    "combined_data.head()\n"
   ]
  },
  {
   "cell_type": "code",
   "execution_count": 4,
   "metadata": {
    "scrolled": false
   },
   "outputs": [
    {
     "name": "stdout",
     "output_type": "stream",
     "text": [
      "Best alpha: 1e-07\n",
      "Selected Features: [5, 3, 2, 1, 0]\n"
     ]
    }
   ],
   "source": [
    "# Feature Meta Subset\n",
    "subset = [8,7,6,5,4,3,2,1,0]\n",
    "\n",
    "# Split train data into X (features) and Y (dependent variable)\n",
    "data = combined_data.values \n",
    "Y_train = data[0:-181,-1].reshape(-1,1) \n",
    "X_train = data[0:-181,:-1]\n",
    "\n",
    "# Training Validation samples size (1/6/18 - 31/12/18)\n",
    "n_validation = 214\n",
    "\n",
    "# Fine-tune alpha\n",
    "best_alpha = fine_tune_alpha(X_train[:,subset],Y_train,'Lasso')\n",
    "print('Best alpha:',str(best_alpha))\n",
    "\n",
    "# Feature Selection\n",
    "selected_features = wrapper_feature_selector(X_train,Y_train,Lasso(alpha=best_alpha),subset)[0]   \n",
    "print('Selected Features:',str(selected_features))"
   ]
  },
  {
   "cell_type": "code",
   "execution_count": 5,
   "metadata": {},
   "outputs": [
    {
     "name": "stdout",
     "output_type": "stream",
     "text": [
      "Train RMSE: 638.55\n",
      "CPU times: user 110 ms, sys: 1.58 ms, total: 112 ms\n",
      "Wall time: 111 ms\n"
     ]
    }
   ],
   "source": [
    "%%time\n",
    "rmse,Y_train_test,Y_train_pred= train_and_predict(X_train[:,selected_features],Y_train,Lasso(alpha=best_alpha),predict=False)\n",
    "print('Train RMSE: {:0.2f}'.format(rmse))\n"
   ]
  },
  {
   "cell_type": "code",
   "execution_count": 6,
   "metadata": {},
   "outputs": [
    {
     "name": "stdout",
     "output_type": "stream",
     "text": [
      "CPU times: user 224 µs, sys: 11 µs, total: 235 µs\n",
      "Wall time: 224 µs\n"
     ]
    }
   ],
   "source": [
    "%%time\n",
    "# Feature Meta Subset\n",
    "subset = [8,7,6,5,4,3,2,1,0]\n",
    "\n",
    "# Split train data into X (features) and Y (dependent variable)\n",
    "data = combined_data.values \n",
    "Y_train = data[0:-181,-1].reshape(-1,1) \n",
    "X_train = data[0:-181,:-1]\n",
    "\n",
    "# Test samples size (01/01/19 - 30/06/19)\n",
    "n_validation = 181\n",
    "\n",
    "# Split test data into X (features) and Y (dependent variable)\n",
    "Y_test = data[:,-1].reshape(-1,1) # including train data for fitting the model\n",
    "X_test = data[:,:-1]\n",
    "\n"
   ]
  },
  {
   "cell_type": "code",
   "execution_count": 59,
   "metadata": {},
   "outputs": [
    {
     "data": {
      "text/plain": [
       "545"
      ]
     },
     "execution_count": 59,
     "metadata": {},
     "output_type": "execute_result"
    }
   ],
   "source": [
    "len(Y_test)"
   ]
  },
  {
   "cell_type": "code",
   "execution_count": 11,
   "metadata": {
    "scrolled": false
   },
   "outputs": [
    {
     "name": "stdout",
     "output_type": "stream",
     "text": [
      "Test Sample 1 - RMSE: 618.96, Selected Features: [5, 3, 2, 1, 0]\n",
      "Test Sample 2 - RMSE: 249.32, Selected Features: [8, 7, 5, 4, 3, 2, 1, 0]\n",
      "Test Sample 3 - RMSE: 765.67, Selected Features: [8, 6, 3, 2, 1, 0]\n",
      "Test Sample 4 - RMSE: 473.97, Selected Features: [8, 7, 6]\n",
      "Test Sample 5 - RMSE: 150.37, Selected Features: [8, 7, 5, 4, 3, 2, 1, 0]\n",
      "Test Sample 6 - RMSE: 66.15, Selected Features: [8, 5, 3, 2, 1, 0]\n",
      "Test Sample 7 - RMSE: 121.20, Selected Features: [8, 6, 5, 4, 3, 2, 1]\n",
      "Test Sample 8 - RMSE: 232.46, Selected Features: [8, 7, 5, 4, 3, 2]\n",
      "Test Sample 9 - RMSE: 153.63, Selected Features: [7, 5, 4, 3, 2, 1]\n",
      "Test Sample 10 - RMSE: 229.19, Selected Features: [5, 3, 2, 1, 0]\n",
      "Test Sample 11 - RMSE: 119.81, Selected Features: [8, 7, 6, 5, 4, 3, 2, 0]\n",
      "Test Sample 12 - RMSE: 39.18, Selected Features: [8, 7, 5, 4, 3, 2]\n",
      "Test Sample 13 - RMSE: 162.88, Selected Features: [7, 6, 5, 3, 2, 1, 0]\n",
      "Test Sample 14 - RMSE: 14.17, Selected Features: [5, 3, 2, 1, 0]\n",
      "Test Sample 15 - RMSE: 93.54, Selected Features: [7, 5, 3, 2, 1, 0]\n",
      "Test Sample 16 - RMSE: 261.91, Selected Features: [7, 5, 4, 3, 2, 1]\n",
      "Test Sample 17 - RMSE: 276.51, Selected Features: [7, 6, 5, 4, 3, 1]\n",
      "Test Sample 18 - RMSE: 52.02, Selected Features: [7, 5, 4, 3, 2, 1]\n",
      "Test Sample 19 - RMSE: 86.15, Selected Features: [5, 3, 1, 0]\n",
      "Test Sample 20 - RMSE: 117.33, Selected Features: [5, 4, 3, 2, 0]\n",
      "Test Sample 21 - RMSE: 224.24, Selected Features: [5, 4, 3, 2, 1]\n",
      "Test Sample 22 - RMSE: 111.93, Selected Features: [7, 5, 4, 3, 2, 1]\n",
      "Test Sample 23 - RMSE: 107.55, Selected Features: [8, 7, 6, 5, 4, 3, 2, 0]\n",
      "Test Sample 24 - RMSE: 380.61, Selected Features: [8, 7, 6, 5, 3, 1, 0]\n",
      "Test Sample 25 - RMSE: 277.24, Selected Features: [5, 3, 2, 1, 0]\n",
      "Test Sample 26 - RMSE: 171.66, Selected Features: [8, 5, 3]\n",
      "Test Sample 27 - RMSE: 237.05, Selected Features: [7, 6, 5, 4, 3, 1]\n",
      "Test Sample 28 - RMSE: 495.81, Selected Features: [7, 5, 4, 3, 2, 1, 0]\n",
      "Test Sample 29 - RMSE: 536.43, Selected Features: [8, 7, 5, 4, 3]\n",
      "Test Sample 30 - RMSE: 91.61, Selected Features: [7, 5, 4, 3, 2, 1]\n",
      "Test Sample 31 - RMSE: 207.08, Selected Features: [8, 5, 3, 2, 1]\n",
      "Test Sample 32 - RMSE: 82.39, Selected Features: [7, 6, 5, 4, 3, 1]\n",
      "Test Sample 33 - RMSE: 442.32, Selected Features: [7, 6, 5, 3, 2, 1, 0]\n",
      "Test Sample 34 - RMSE: 23.00, Selected Features: [8, 7, 6, 3, 1]\n",
      "Test Sample 35 - RMSE: 161.59, Selected Features: [8, 6, 4, 3, 1, 0]\n",
      "Test Sample 36 - RMSE: 197.47, Selected Features: [8, 7, 5, 3, 2, 1]\n",
      "Test Sample 37 - RMSE: 161.76, Selected Features: [5, 3, 2, 1]\n",
      "Test Sample 38 - RMSE: 59.99, Selected Features: [8, 7, 6, 4, 3, 2, 1, 0]\n",
      "Test Sample 39 - RMSE: 355.92, Selected Features: [8, 6, 4, 3, 1, 0]\n",
      "Test Sample 40 - RMSE: 202.10, Selected Features: [7, 6, 4, 3, 2, 1, 0]\n",
      "Test Sample 41 - RMSE: 12.65, Selected Features: [6, 4, 3, 2, 1, 0]\n",
      "Test Sample 42 - RMSE: 268.34, Selected Features: [6, 4, 3, 2, 1, 0]\n",
      "Test Sample 43 - RMSE: 118.30, Selected Features: [8, 7, 5, 4, 3, 2, 1]\n",
      "Test Sample 44 - RMSE: 183.17, Selected Features: [7, 6, 5, 4, 3, 2, 0]\n",
      "Test Sample 45 - RMSE: 591.12, Selected Features: [8, 7, 5, 4, 3]\n"
     ]
    },
    {
     "ename": "ValueError",
     "evalue": "Found array with 0 feature(s) (shape=(408, 0)) while a minimum of 1 is required by MinMaxScaler.",
     "output_type": "error",
     "traceback": [
      "\u001b[0;31m---------------------------------------------------------------------------\u001b[0m",
      "\u001b[0;31mValueError\u001b[0m                                Traceback (most recent call last)",
      "\u001b[0;32m<ipython-input-11-0ae62242210c>\u001b[0m in \u001b[0;36m<module>\u001b[0;34m()\u001b[0m\n\u001b[0;32m----> 1\u001b[0;31m \u001b[0mrmse\u001b[0m\u001b[0;34m,\u001b[0m\u001b[0mY_test\u001b[0m\u001b[0;34m,\u001b[0m\u001b[0mY_pred\u001b[0m\u001b[0;34m=\u001b[0m \u001b[0mtrain_and_predict\u001b[0m\u001b[0;34m(\u001b[0m\u001b[0mX_test\u001b[0m\u001b[0;34m,\u001b[0m\u001b[0mY_test\u001b[0m\u001b[0;34m,\u001b[0m\u001b[0mLasso\u001b[0m\u001b[0;34m(\u001b[0m\u001b[0malpha\u001b[0m\u001b[0;34m=\u001b[0m\u001b[0;36m1e-07\u001b[0m\u001b[0;34m)\u001b[0m\u001b[0;34m,\u001b[0m\u001b[0mn_validation\u001b[0m\u001b[0;34m,\u001b[0m\u001b[0msubset\u001b[0m\u001b[0;34m,\u001b[0m\u001b[0mpredict\u001b[0m\u001b[0;34m=\u001b[0m\u001b[0;32mTrue\u001b[0m\u001b[0;34m)\u001b[0m\u001b[0;34m\u001b[0m\u001b[0m\n\u001b[0m\u001b[1;32m      2\u001b[0m \u001b[0mnp\u001b[0m\u001b[0;34m.\u001b[0m\u001b[0msavetxt\u001b[0m\u001b[0;34m(\u001b[0m\u001b[0;34m'Lasso.csv'\u001b[0m\u001b[0;34m,\u001b[0m \u001b[0mY_pred\u001b[0m\u001b[0;34m.\u001b[0m\u001b[0mreshape\u001b[0m\u001b[0;34m(\u001b[0m\u001b[0;34m-\u001b[0m\u001b[0;36m1\u001b[0m\u001b[0;34m,\u001b[0m\u001b[0;36m1\u001b[0m\u001b[0;34m)\u001b[0m\u001b[0;34m,\u001b[0m \u001b[0mdelimiter\u001b[0m\u001b[0;34m=\u001b[0m\u001b[0;34m','\u001b[0m\u001b[0;34m,\u001b[0m  \u001b[0mfmt\u001b[0m\u001b[0;34m=\u001b[0m\u001b[0;34m'%1.10e'\u001b[0m\u001b[0;34m)\u001b[0m\u001b[0;34m\u001b[0m\u001b[0m\n\u001b[1;32m      3\u001b[0m \u001b[0mprint\u001b[0m\u001b[0;34m(\u001b[0m\u001b[0;34m'Test RMSE: {:0.2f}'\u001b[0m\u001b[0;34m.\u001b[0m\u001b[0mformat\u001b[0m\u001b[0;34m(\u001b[0m\u001b[0mrmse\u001b[0m\u001b[0;34m)\u001b[0m\u001b[0;34m)\u001b[0m\u001b[0;34m\u001b[0m\u001b[0m\n",
      "\u001b[0;32m~/Desktop/Bitcoin/Model/Functions_6.py\u001b[0m in \u001b[0;36mtrain_and_predict\u001b[0;34m(X, Y, model, n_validation, subset, predict, return_y)\u001b[0m\n\u001b[1;32m     69\u001b[0m         \u001b[0;32mif\u001b[0m \u001b[0mpredict\u001b[0m\u001b[0;34m:\u001b[0m \u001b[0;31m# for prediction\u001b[0m\u001b[0;34m\u001b[0m\u001b[0m\n\u001b[1;32m     70\u001b[0m             \u001b[0;31m# Feature Selection\u001b[0m\u001b[0;34m\u001b[0m\u001b[0;34m\u001b[0m\u001b[0m\n\u001b[0;32m---> 71\u001b[0;31m             \u001b[0mselected_features\u001b[0m\u001b[0;34m,\u001b[0m \u001b[0mrmse\u001b[0m \u001b[0;34m=\u001b[0m \u001b[0mwrapper_feature_selector\u001b[0m\u001b[0;34m(\u001b[0m\u001b[0mX_train\u001b[0m\u001b[0;34m,\u001b[0m\u001b[0mY_train\u001b[0m\u001b[0;34m,\u001b[0m\u001b[0mmodel\u001b[0m\u001b[0;34m,\u001b[0m\u001b[0msubset\u001b[0m\u001b[0;34m)\u001b[0m\u001b[0;34m\u001b[0m\u001b[0m\n\u001b[0m\u001b[1;32m     72\u001b[0m             \u001b[0;31m#print('Test Sample {} - RMSE: {:0.2f}'.format(n, rmse) + ', Selected Features:', str(selected_features))\u001b[0m\u001b[0;34m\u001b[0m\u001b[0;34m\u001b[0m\u001b[0m\n\u001b[1;32m     73\u001b[0m             \u001b[0;31m# Normalize Data\u001b[0m\u001b[0;34m\u001b[0m\u001b[0;34m\u001b[0m\u001b[0m\n",
      "\u001b[0;32m~/Desktop/Bitcoin/Model/Functions_6.py\u001b[0m in \u001b[0;36mwrapper_feature_selector\u001b[0;34m(X, Y, model, subset)\u001b[0m\n\u001b[1;32m     53\u001b[0m             \u001b[0moverall_error\u001b[0m \u001b[0;34m=\u001b[0m \u001b[0mcand_error\u001b[0m\u001b[0;34m\u001b[0m\u001b[0m\n\u001b[1;32m     54\u001b[0m             \u001b[0msel\u001b[0m\u001b[0;34m.\u001b[0m\u001b[0mremove\u001b[0m\u001b[0;34m(\u001b[0m\u001b[0mselected_candidate\u001b[0m\u001b[0;34m)\u001b[0m\u001b[0;34m\u001b[0m\u001b[0m\n\u001b[0;32m---> 55\u001b[0;31m     \u001b[0mrmse\u001b[0m \u001b[0;34m=\u001b[0m \u001b[0mtrain_and_predict\u001b[0m\u001b[0;34m(\u001b[0m\u001b[0mX\u001b[0m\u001b[0;34m[\u001b[0m\u001b[0;34m:\u001b[0m\u001b[0;34m,\u001b[0m\u001b[0msel\u001b[0m\u001b[0;34m]\u001b[0m\u001b[0;34m,\u001b[0m\u001b[0mY\u001b[0m\u001b[0;34m,\u001b[0m\u001b[0mmodel\u001b[0m\u001b[0;34m,\u001b[0m\u001b[0mn_validation\u001b[0m\u001b[0;34m=\u001b[0m\u001b[0;36m1\u001b[0m\u001b[0;34m,\u001b[0m\u001b[0mpredict\u001b[0m\u001b[0;34m=\u001b[0m\u001b[0;32mFalse\u001b[0m\u001b[0;34m,\u001b[0m\u001b[0mreturn_y\u001b[0m\u001b[0;34m=\u001b[0m\u001b[0;32mFalse\u001b[0m\u001b[0;34m)\u001b[0m\u001b[0;34m\u001b[0m\u001b[0m\n\u001b[0m\u001b[1;32m     56\u001b[0m     \u001b[0;32mreturn\u001b[0m \u001b[0;34m[\u001b[0m\u001b[0msel\u001b[0m\u001b[0;34m,\u001b[0m \u001b[0mrmse\u001b[0m\u001b[0;34m]\u001b[0m\u001b[0;34m\u001b[0m\u001b[0m\n\u001b[1;32m     57\u001b[0m \u001b[0;34m\u001b[0m\u001b[0m\n",
      "\u001b[0;32m~/Desktop/Bitcoin/Model/Functions_6.py\u001b[0m in \u001b[0;36mtrain_and_predict\u001b[0;34m(X, Y, model, n_validation, subset, predict, return_y)\u001b[0m\n\u001b[1;32m     79\u001b[0m             \u001b[0;31m# Normalize Data\u001b[0m\u001b[0;34m\u001b[0m\u001b[0;34m\u001b[0m\u001b[0m\n\u001b[1;32m     80\u001b[0m             \u001b[0mscaler\u001b[0m \u001b[0;34m=\u001b[0m \u001b[0mMinMaxScaler\u001b[0m\u001b[0;34m(\u001b[0m\u001b[0;34m)\u001b[0m\u001b[0;34m\u001b[0m\u001b[0m\n\u001b[0;32m---> 81\u001b[0;31m             \u001b[0mscaler\u001b[0m\u001b[0;34m.\u001b[0m\u001b[0mfit\u001b[0m\u001b[0;34m(\u001b[0m\u001b[0mX_train\u001b[0m\u001b[0;34m,\u001b[0m\u001b[0mY_train\u001b[0m\u001b[0;34m)\u001b[0m\u001b[0;34m\u001b[0m\u001b[0m\n\u001b[0m\u001b[1;32m     82\u001b[0m             \u001b[0mX_train\u001b[0m \u001b[0;34m=\u001b[0m \u001b[0mscaler\u001b[0m\u001b[0;34m.\u001b[0m\u001b[0mtransform\u001b[0m\u001b[0;34m(\u001b[0m\u001b[0mX_train\u001b[0m\u001b[0;34m)\u001b[0m\u001b[0;34m\u001b[0m\u001b[0m\n\u001b[1;32m     83\u001b[0m             \u001b[0mX_test\u001b[0m \u001b[0;34m=\u001b[0m \u001b[0mscaler\u001b[0m\u001b[0;34m.\u001b[0m\u001b[0mtransform\u001b[0m\u001b[0;34m(\u001b[0m\u001b[0mX_test\u001b[0m\u001b[0;34m)\u001b[0m\u001b[0;34m\u001b[0m\u001b[0m\n",
      "\u001b[0;32m/anaconda3/lib/python3.5/site-packages/sklearn/preprocessing/data.py\u001b[0m in \u001b[0;36mfit\u001b[0;34m(self, X, y)\u001b[0m\n\u001b[1;32m    306\u001b[0m         \u001b[0;31m# Reset internal state before fitting\u001b[0m\u001b[0;34m\u001b[0m\u001b[0;34m\u001b[0m\u001b[0m\n\u001b[1;32m    307\u001b[0m         \u001b[0mself\u001b[0m\u001b[0;34m.\u001b[0m\u001b[0m_reset\u001b[0m\u001b[0;34m(\u001b[0m\u001b[0;34m)\u001b[0m\u001b[0;34m\u001b[0m\u001b[0m\n\u001b[0;32m--> 308\u001b[0;31m         \u001b[0;32mreturn\u001b[0m \u001b[0mself\u001b[0m\u001b[0;34m.\u001b[0m\u001b[0mpartial_fit\u001b[0m\u001b[0;34m(\u001b[0m\u001b[0mX\u001b[0m\u001b[0;34m,\u001b[0m \u001b[0my\u001b[0m\u001b[0;34m)\u001b[0m\u001b[0;34m\u001b[0m\u001b[0m\n\u001b[0m\u001b[1;32m    309\u001b[0m \u001b[0;34m\u001b[0m\u001b[0m\n\u001b[1;32m    310\u001b[0m     \u001b[0;32mdef\u001b[0m \u001b[0mpartial_fit\u001b[0m\u001b[0;34m(\u001b[0m\u001b[0mself\u001b[0m\u001b[0;34m,\u001b[0m \u001b[0mX\u001b[0m\u001b[0;34m,\u001b[0m \u001b[0my\u001b[0m\u001b[0;34m=\u001b[0m\u001b[0;32mNone\u001b[0m\u001b[0;34m)\u001b[0m\u001b[0;34m:\u001b[0m\u001b[0;34m\u001b[0m\u001b[0m\n",
      "\u001b[0;32m/anaconda3/lib/python3.5/site-packages/sklearn/preprocessing/data.py\u001b[0m in \u001b[0;36mpartial_fit\u001b[0;34m(self, X, y)\u001b[0m\n\u001b[1;32m    332\u001b[0m \u001b[0;34m\u001b[0m\u001b[0m\n\u001b[1;32m    333\u001b[0m         X = check_array(X, copy=self.copy, warn_on_dtype=True,\n\u001b[0;32m--> 334\u001b[0;31m                         estimator=self, dtype=FLOAT_DTYPES)\n\u001b[0m\u001b[1;32m    335\u001b[0m \u001b[0;34m\u001b[0m\u001b[0m\n\u001b[1;32m    336\u001b[0m         \u001b[0mdata_min\u001b[0m \u001b[0;34m=\u001b[0m \u001b[0mnp\u001b[0m\u001b[0;34m.\u001b[0m\u001b[0mmin\u001b[0m\u001b[0;34m(\u001b[0m\u001b[0mX\u001b[0m\u001b[0;34m,\u001b[0m \u001b[0maxis\u001b[0m\u001b[0;34m=\u001b[0m\u001b[0;36m0\u001b[0m\u001b[0;34m)\u001b[0m\u001b[0;34m\u001b[0m\u001b[0m\n",
      "\u001b[0;32m/anaconda3/lib/python3.5/site-packages/sklearn/utils/validation.py\u001b[0m in \u001b[0;36mcheck_array\u001b[0;34m(array, accept_sparse, dtype, order, copy, force_all_finite, ensure_2d, allow_nd, ensure_min_samples, ensure_min_features, warn_on_dtype, estimator)\u001b[0m\n\u001b[1;32m    468\u001b[0m                              \u001b[0;34m\" a minimum of %d is required%s.\"\u001b[0m\u001b[0;34m\u001b[0m\u001b[0m\n\u001b[1;32m    469\u001b[0m                              % (n_features, shape_repr, ensure_min_features,\n\u001b[0;32m--> 470\u001b[0;31m                                 context))\n\u001b[0m\u001b[1;32m    471\u001b[0m \u001b[0;34m\u001b[0m\u001b[0m\n\u001b[1;32m    472\u001b[0m     \u001b[0;32mif\u001b[0m \u001b[0mwarn_on_dtype\u001b[0m \u001b[0;32mand\u001b[0m \u001b[0mdtype_orig\u001b[0m \u001b[0;32mis\u001b[0m \u001b[0;32mnot\u001b[0m \u001b[0;32mNone\u001b[0m \u001b[0;32mand\u001b[0m \u001b[0marray\u001b[0m\u001b[0;34m.\u001b[0m\u001b[0mdtype\u001b[0m \u001b[0;34m!=\u001b[0m \u001b[0mdtype_orig\u001b[0m\u001b[0;34m:\u001b[0m\u001b[0;34m\u001b[0m\u001b[0m\n",
      "\u001b[0;31mValueError\u001b[0m: Found array with 0 feature(s) (shape=(408, 0)) while a minimum of 1 is required by MinMaxScaler."
     ]
    }
   ],
   "source": [
    "rmse,Y_test,Y_pred= train_and_predict(X_test,Y_test,Lasso(alpha=1e-07),n_validation,subset,predict=True)\n",
    "np.savetxt('Lasso.csv', Y_pred.reshape(-1,1), delimiter=',',  fmt='%1.10e')\n",
    "print('Test RMSE: {:0.2f}'.format(rmse))"
   ]
  },
  {
   "cell_type": "code",
   "execution_count": null,
   "metadata": {},
   "outputs": [],
   "source": [
    "# Output prediction to csv file\n",
    "output = {'Y_pred': Y_pred.reshape(-1,)}\n",
    "output = DataFrame(output)\n",
    "output.to_csv('Lasso.csv', index=False)\n"
   ]
  },
  {
   "cell_type": "code",
   "execution_count": null,
   "metadata": {},
   "outputs": [],
   "source": [
    "trace1 = go.Scatter(\n",
    "    x = np.arange(0, len(Y_pred), 1),\n",
    "    y = Y_pred.reshape(-1,),\n",
    "    mode = 'lines',\n",
    "    name = 'Predicted labels',\n",
    "    line = dict(color=('rgb(244, 146, 65)'), width=2)\n",
    ")\n",
    "trace2 = go.Scatter(\n",
    "    x = np.arange(0, len(Y_test), 1),\n",
    "    y = Y_test.reshape(-1,),\n",
    "    mode = 'lines',\n",
    "    name = 'True labels',\n",
    "    line = dict(color=('rgb(66, 244, 155)'), width=2)\n",
    ")\n",
    "\n",
    "layout = dict(title = 'Comparison of true prices (on the test dataset) with prices our Lasso model predicted',\n",
    "             xaxis = dict(title = 'Day number'), yaxis = dict(title = 'Price, USD'))\n",
    "fig = dict(data=[trace1, trace2], layout=layout)\n",
    "py.iplot(fig, filename='results_demonstrating0')\n",
    "\n",
    "print('Test RMSE: {:0.2f}'.format(rmse))\n"
   ]
  },
  {
   "cell_type": "code",
   "execution_count": null,
   "metadata": {},
   "outputs": [],
   "source": []
  }
 ],
 "metadata": {
  "kernelspec": {
   "display_name": "Python 3",
   "language": "python",
   "name": "python3"
  },
  "language_info": {
   "codemirror_mode": {
    "name": "ipython",
    "version": 3
   },
   "file_extension": ".py",
   "mimetype": "text/x-python",
   "name": "python",
   "nbconvert_exporter": "python",
   "pygments_lexer": "ipython3",
   "version": "3.5.6"
  }
 },
 "nbformat": 4,
 "nbformat_minor": 2
}
